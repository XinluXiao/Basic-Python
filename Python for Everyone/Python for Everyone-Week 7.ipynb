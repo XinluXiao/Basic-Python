{
 "cells": [
  {
   "cell_type": "code",
   "execution_count": 1,
   "metadata": {
    "collapsed": false
   },
   "outputs": [
    {
     "name": "stdout",
     "output_type": "stream",
     "text": [
      "Enter a line:#haha\n",
      "Enter a line:done\n",
      "Finish\n"
     ]
    }
   ],
   "source": [
    "# Loops and Iteration\n",
    "while True:\n",
    "    line = input('Enter a line:')\n",
    "    if line[0] == \"#\":\n",
    "        continue\n",
    "    if line == \"done\":\n",
    "        break\n",
    "    print(line)\n",
    "    \n",
    "print('Finish')"
   ]
  },
  {
   "cell_type": "code",
   "execution_count": 1,
   "metadata": {
    "collapsed": false
   },
   "outputs": [
    {
     "name": "stdout",
     "output_type": "stream",
     "text": [
      "('Before:', 1)\n",
      "('After:', 74)\n"
     ]
    }
   ],
   "source": [
    "largest_so_far = 1\n",
    "print(\"Before:\", largest_so_far)\n",
    "for num in [3,24,5,35,74,2]:\n",
    "    if largest_so_far < num:\n",
    "        largest_so_far = num\n",
    "print(\"After:\", largest_so_far)\n",
    "    "
   ]
  },
  {
   "cell_type": "code",
   "execution_count": 2,
   "metadata": {
    "collapsed": false
   },
   "outputs": [
    {
     "name": "stdout",
     "output_type": "stream",
     "text": [
      "('Before', 0)\n",
      "('After', 6)\n"
     ]
    }
   ],
   "source": [
    "# count a loop\n",
    "count = 0\n",
    "print(\"Before\", count)\n",
    "for num in [3,24,5,35,74,2]:\n",
    "    count = count + 1\n",
    "print(\"After\", count)"
   ]
  },
  {
   "cell_type": "code",
   "execution_count": 3,
   "metadata": {
    "collapsed": false
   },
   "outputs": [
    {
     "name": "stdout",
     "output_type": "stream",
     "text": [
      "('Before', 0)\n",
      "('After', 143)\n"
     ]
    }
   ],
   "source": [
    "# sum in a loop\n",
    "sum = 0\n",
    "print(\"Before\", sum)\n",
    "for num in [3,24,5,35,74,2]:\n",
    "    sum = sum + num\n",
    "print(\"After\", sum)"
   ]
  },
  {
   "cell_type": "code",
   "execution_count": 4,
   "metadata": {
    "collapsed": false
   },
   "outputs": [
    {
     "name": "stdout",
     "output_type": "stream",
     "text": [
      "('Before', 'sum = ', 0, 'count = ', 0)\n",
      "('After:', 'average:', 23)\n"
     ]
    }
   ],
   "source": [
    "# find the average in a loop\n",
    "count = 0\n",
    "sum = 0\n",
    "print(\"Before\", \"sum = \", sum, \"count = \", count)\n",
    "for num in [3,24,5,35,74,2]:\n",
    "    count = count + 1\n",
    "    sum = sum + num\n",
    "print(\"After:\", \"average:\", sum/count)"
   ]
  },
  {
   "cell_type": "code",
   "execution_count": 5,
   "metadata": {
    "collapsed": false
   },
   "outputs": [
    {
     "name": "stdout",
     "output_type": "stream",
     "text": [
      "Before\n",
      "('Num is larger than 20:', 24)\n",
      "('Num is larger than 20:', 35)\n",
      "('Num is larger than 20:', 74)\n",
      "Done\n"
     ]
    }
   ],
   "source": [
    "# filtering in a loop\n",
    "print(\"Before\")\n",
    "for num in [3,24,5,35,74,2]:\n",
    "    if num > 20:\n",
    "        print(\"Num is larger than 20:\", num)\n",
    "print(\"Done\")"
   ]
  },
  {
   "cell_type": "code",
   "execution_count": 8,
   "metadata": {
    "collapsed": false
   },
   "outputs": [
    {
     "name": "stdout",
     "output_type": "stream",
     "text": [
      "('Before', False)\n",
      "(3, False)\n",
      "(24, True)\n",
      "(5, False)\n",
      "(35, True)\n",
      "(74, True)\n",
      "(2, False)\n",
      "Done\n"
     ]
    }
   ],
   "source": [
    "# Search Using a Boolean Variable\n",
    "found = False\n",
    "print(\"Before\", found)\n",
    "for num in [3,24,5,35,74,2]:\n",
    "    if num > 20:\n",
    "        found = True\n",
    "    else:\n",
    "        found = False\n",
    "    print(num, found)\n",
    "print(\"Done\")"
   ]
  },
  {
   "cell_type": "code",
   "execution_count": 11,
   "metadata": {
    "collapsed": false
   },
   "outputs": [
    {
     "name": "stdout",
     "output_type": "stream",
     "text": [
      "Before\n",
      "(3, 3)\n",
      "(3, 24)\n",
      "(3, 5)\n",
      "(3, 35)\n",
      "(3, 74)\n",
      "(2, 2)\n",
      "('After', 2)\n"
     ]
    }
   ],
   "source": [
    "# Find the smallest value\n",
    "# assign special value \"None\"\n",
    "smallest = None   # important !\n",
    "\n",
    "print(\"Before\")\n",
    "for num in [3,24,5,35,74,2]:\n",
    "    if smallest == None:\n",
    "        smallest = num\n",
    "    elif smallest > num:\n",
    "        smallest = num\n",
    "    print(smallest,num)\n",
    "print(\"After\", smallest)"
   ]
  },
  {
   "cell_type": "code",
   "execution_count": null,
   "metadata": {
    "collapsed": true
   },
   "outputs": [],
   "source": []
  }
 ],
 "metadata": {
  "kernelspec": {
   "display_name": "Python 2",
   "language": "python",
   "name": "python2"
  },
  "language_info": {
   "codemirror_mode": {
    "name": "ipython",
    "version": 2
   },
   "file_extension": ".py",
   "mimetype": "text/x-python",
   "name": "python",
   "nbconvert_exporter": "python",
   "pygments_lexer": "ipython2",
   "version": "2.7.13"
  }
 },
 "nbformat": 4,
 "nbformat_minor": 1
}
