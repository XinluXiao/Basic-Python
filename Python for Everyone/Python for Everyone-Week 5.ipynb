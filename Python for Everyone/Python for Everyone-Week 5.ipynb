{
 "cells": [
  {
   "cell_type": "code",
   "execution_count": 5,
   "metadata": {
    "collapsed": false
   },
   "outputs": [
    {
     "name": "stdout",
     "output_type": "stream",
     "text": [
      "First -1\n",
      "Second 123\n"
     ]
    }
   ],
   "source": [
    "# The concept of \"Try and Except\" structure\n",
    "a = 'Hello Bob'\n",
    "try:\n",
    "    istr = int(a)\n",
    "except:\n",
    "    istr = -1\n",
    "print('First',istr)\n",
    "\n",
    "b = '123'\n",
    "try:\n",
    "    iistr = int(b)\n",
    "except:\n",
    "    iistr = -1\n",
    "print('Second',iistr)"
   ]
  },
  {
   "cell_type": "code",
   "execution_count": 6,
   "metadata": {
    "collapsed": false
   },
   "outputs": [
    {
     "name": "stdout",
     "output_type": "stream",
     "text": [
      "Enter a number:6\n",
      "Nice work\n"
     ]
    }
   ],
   "source": [
    "str = input('Enter a number:')\n",
    "try:\n",
    "    ival = int(str)\n",
    "except:\n",
    "    ival = -1\n",
    "\n",
    "if ival>0:\n",
    "    print('Nice work')\n",
    "else:\n",
    "    print('Not nice work')"
   ]
  },
  {
   "cell_type": "code",
   "execution_count": null,
   "metadata": {
    "collapsed": true
   },
   "outputs": [],
   "source": []
  }
 ],
 "metadata": {
  "kernelspec": {
   "display_name": "Python [default]",
   "language": "python",
   "name": "python3"
  },
  "language_info": {
   "codemirror_mode": {
    "name": "ipython",
    "version": 3
   },
   "file_extension": ".py",
   "mimetype": "text/x-python",
   "name": "python",
   "nbconvert_exporter": "python",
   "pygments_lexer": "ipython3",
   "version": "3.5.2"
  }
 },
 "nbformat": 4,
 "nbformat_minor": 1
}
