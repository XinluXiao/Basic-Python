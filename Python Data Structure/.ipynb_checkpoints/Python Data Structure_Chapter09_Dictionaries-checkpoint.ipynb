{
 "cells": [
  {
   "cell_type": "markdown",
   "metadata": {},
   "source": [
    "### Dictionaries-----Hashmap \n",
    "### *Very good summary in the end: change between list(), dict(), tuple"
   ]
  },
  {
   "cell_type": "code",
   "execution_count": 2,
   "metadata": {
    "collapsed": false
   },
   "outputs": [
    {
     "name": "stdout",
     "output_type": "stream",
     "text": [
      "{'money': 12, 'tissue': 75, 'candy': 3}\n"
     ]
    }
   ],
   "source": [
    "purse = dict()\n",
    "purse['money'] = 12\n",
    "purse['candy'] = 3\n",
    "purse['tissue'] = 75\n",
    "print(purse)"
   ]
  },
  {
   "cell_type": "code",
   "execution_count": 3,
   "metadata": {
    "collapsed": false
   },
   "outputs": [
    {
     "name": "stdout",
     "output_type": "stream",
     "text": [
      "3\n"
     ]
    }
   ],
   "source": [
    "print(purse['candy'])"
   ]
  },
  {
   "cell_type": "code",
   "execution_count": 5,
   "metadata": {
    "collapsed": false
   },
   "outputs": [
    {
     "name": "stdout",
     "output_type": "stream",
     "text": [
      "{'money': 12, 'tissue': 75, 'candy': 7}\n"
     ]
    }
   ],
   "source": [
    "purse['candy'] = purse['candy'] + 2\n",
    "print(purse)"
   ]
  },
  {
   "cell_type": "markdown",
   "metadata": {},
   "source": [
    "#### list have the order, dictionary don't have order"
   ]
  },
  {
   "cell_type": "code",
   "execution_count": 7,
   "metadata": {
    "collapsed": false
   },
   "outputs": [
    {
     "name": "stdout",
     "output_type": "stream",
     "text": [
      "[2, 23]\n"
     ]
    }
   ],
   "source": [
    "lst = list()\n",
    "lst.append(2)\n",
    "lst.append(23)\n",
    "print(lst)"
   ]
  },
  {
   "cell_type": "code",
   "execution_count": 8,
   "metadata": {
    "collapsed": false
   },
   "outputs": [
    {
     "name": "stdout",
     "output_type": "stream",
     "text": [
      "[187, 23]\n"
     ]
    }
   ],
   "source": [
    "lst[0] = 187\n",
    "print(lst)"
   ]
  },
  {
   "cell_type": "code",
   "execution_count": 9,
   "metadata": {
    "collapsed": false
   },
   "outputs": [
    {
     "name": "stdout",
     "output_type": "stream",
     "text": [
      "{'mike': 45, 'sally': 187, 'chuck': 23}\n"
     ]
    }
   ],
   "source": [
    "d = {'chuck':23, 'mike':45, 'sally':187}\n",
    "print(d)"
   ]
  },
  {
   "cell_type": "code",
   "execution_count": 33,
   "metadata": {
    "collapsed": false,
    "scrolled": true
   },
   "outputs": [
    {
     "name": "stdout",
     "output_type": "stream",
     "text": [
      "{'csev': 3, 'cwen': 2, 'marquard': 3, 'zhen': 5}\n",
      "The most frequent name is:\n",
      "('zhen', 5)\n"
     ]
    }
   ],
   "source": [
    "l = ['zhen', 'zhen','marquard','cwen','csev','zhen','csev','marquard','marquard','csev','cwen','zhen','zhen']\n",
    "d = dict()\n",
    "for name in l:\n",
    "    # there is a improvement method: use get()\n",
    "    if name not in d:\n",
    "        d[name] = 1\n",
    "    else:\n",
    "        d[name] = d[name] + 1\n",
    "print(d)\n",
    "print('The most frequent name is:')\n",
    "print(max(d),d[max(d)])\n",
    "    "
   ]
  },
  {
   "cell_type": "markdown",
   "metadata": {},
   "source": [
    "### Very important!!!!!!!:\n",
    "#### \"get()\" method: provide default value 0 when the key is not yet in the dictionary\n",
    "#### change list() into dict()"
   ]
  },
  {
   "cell_type": "code",
   "execution_count": 21,
   "metadata": {
    "collapsed": false
   },
   "outputs": [
    {
     "name": "stdout",
     "output_type": "stream",
     "text": [
      "{'blue': 3, 'green': 1, 'yellow': 1, 'red': 2}\n"
     ]
    }
   ],
   "source": [
    "count = dict()\n",
    "names = ['green', 'red','blue','red','yellow','blue','blue']\n",
    "for name in names:\n",
    "    count[name] = count.get(name,0)+1\n",
    "    # if the name is in the dict, then +1\n",
    "    # if not in the dict, use default value 0\n",
    "print(count)"
   ]
  },
  {
   "cell_type": "code",
   "execution_count": 24,
   "metadata": {
    "collapsed": false
   },
   "outputs": [
    {
     "name": "stdout",
     "output_type": "stream",
     "text": [
      "('jan', 5)\n",
      "('chuck', 1)\n",
      "('fred', 3)\n"
     ]
    }
   ],
   "source": [
    "counts = {'chuck':1,'fred':3,'jan':5}\n",
    "for key in counts:\n",
    "    print(key,counts[key])"
   ]
  },
  {
   "cell_type": "markdown",
   "metadata": {},
   "source": [
    "#### Change the dict() into list()"
   ]
  },
  {
   "cell_type": "code",
   "execution_count": 25,
   "metadata": {
    "collapsed": false
   },
   "outputs": [
    {
     "name": "stdout",
     "output_type": "stream",
     "text": [
      "['jan', 'chuck', 'fred']\n"
     ]
    }
   ],
   "source": [
    "print(list(counts))"
   ]
  },
  {
   "cell_type": "markdown",
   "metadata": {},
   "source": [
    "#### get the keys of dict()"
   ]
  },
  {
   "cell_type": "code",
   "execution_count": 26,
   "metadata": {
    "collapsed": false
   },
   "outputs": [
    {
     "name": "stdout",
     "output_type": "stream",
     "text": [
      "['jan', 'chuck', 'fred']\n"
     ]
    }
   ],
   "source": [
    "print(counts.keys())"
   ]
  },
  {
   "cell_type": "markdown",
   "metadata": {},
   "source": [
    "#### get the values of dict()"
   ]
  },
  {
   "cell_type": "code",
   "execution_count": 27,
   "metadata": {
    "collapsed": false
   },
   "outputs": [
    {
     "name": "stdout",
     "output_type": "stream",
     "text": [
      "[5, 1, 3]\n"
     ]
    }
   ],
   "source": [
    "print(counts.values())"
   ]
  },
  {
   "cell_type": "markdown",
   "metadata": {},
   "source": [
    "#### change dict() into tuple"
   ]
  },
  {
   "cell_type": "code",
   "execution_count": 28,
   "metadata": {
    "collapsed": false
   },
   "outputs": [
    {
     "name": "stdout",
     "output_type": "stream",
     "text": [
      "[('jan', 5), ('chuck', 1), ('fred', 3)]\n"
     ]
    }
   ],
   "source": [
    "print(counts.items())"
   ]
  },
  {
   "cell_type": "markdown",
   "metadata": {},
   "source": [
    "### Very important!!!\n",
    "#### How to change dictionary into tuple?"
   ]
  },
  {
   "cell_type": "code",
   "execution_count": 29,
   "metadata": {
    "collapsed": false
   },
   "outputs": [
    {
     "name": "stdout",
     "output_type": "stream",
     "text": [
      "('jan', 5)\n",
      "('chuck', 1)\n",
      "('fred', 3)\n"
     ]
    }
   ],
   "source": [
    "for a,b in counts.items():\n",
    "    print(a,b)"
   ]
  },
  {
   "cell_type": "code",
   "execution_count": 30,
   "metadata": {
    "collapsed": false
   },
   "outputs": [
    {
     "name": "stdout",
     "output_type": "stream",
     "text": [
      "{'y': 1, 'r': 4, 'b': 3, 'g': 6}\n"
     ]
    }
   ],
   "source": [
    "l = ['g','r','b','y','g','g','r','b','r','b','g','g','r','g']\n",
    "d = dict()\n",
    "for item in l:\n",
    "    d[item] = d.get(item,0)+1\n",
    "print(d)"
   ]
  },
  {
   "cell_type": "markdown",
   "metadata": {},
   "source": [
    "### Very important!!!\n",
    "#### How to count the maximum?\n",
    "#### Method 1"
   ]
  },
  {
   "cell_type": "code",
   "execution_count": 31,
   "metadata": {
    "collapsed": false
   },
   "outputs": [
    {
     "name": "stdout",
     "output_type": "stream",
     "text": [
      "('g', 6)\n"
     ]
    }
   ],
   "source": [
    "bigcount = None\n",
    "bigword = None\n",
    "for name in l:\n",
    "    if d[name] > bigcount:\n",
    "        bigcount = d[name]\n",
    "        bigword = name\n",
    "print(bigword, bigcount)"
   ]
  },
  {
   "cell_type": "markdown",
   "metadata": {},
   "source": [
    "#### Method 2 Use Tuple"
   ]
  },
  {
   "cell_type": "code",
   "execution_count": 32,
   "metadata": {
    "collapsed": false
   },
   "outputs": [
    {
     "name": "stdout",
     "output_type": "stream",
     "text": [
      "('g', 6)\n"
     ]
    }
   ],
   "source": [
    "bigcount = None\n",
    "bigword = None\n",
    "for word,count in d.items():\n",
    "    if bigcount is None or count > bigcount:\n",
    "        bigword = word\n",
    "        bigcount = count\n",
    "print(bigword,bigcount)"
   ]
  },
  {
   "cell_type": "markdown",
   "metadata": {},
   "source": [
    "## Summary: list(), dict(), tuple()"
   ]
  },
  {
   "cell_type": "markdown",
   "metadata": {},
   "source": [
    "### (1) list() ---> dict()"
   ]
  },
  {
   "cell_type": "code",
   "execution_count": 34,
   "metadata": {
    "collapsed": false
   },
   "outputs": [
    {
     "name": "stdout",
     "output_type": "stream",
     "text": [
      "{'y': 1, 'r': 4, 'b': 3, 'g': 6}\n"
     ]
    }
   ],
   "source": [
    "l = ['g','r','b','y','g','g','r','b','r','b','g','g','r','g']\n",
    "d = dict()\n",
    "for item in l:\n",
    "    d[item] = d.get(item,0)+1\n",
    "print(d)"
   ]
  },
  {
   "cell_type": "markdown",
   "metadata": {},
   "source": [
    "### (2) dict() ---> list()"
   ]
  },
  {
   "cell_type": "code",
   "execution_count": 35,
   "metadata": {
    "collapsed": false
   },
   "outputs": [
    {
     "name": "stdout",
     "output_type": "stream",
     "text": [
      "['y', 'r', 'b', 'g']\n"
     ]
    }
   ],
   "source": [
    "print(list(d))"
   ]
  },
  {
   "cell_type": "code",
   "execution_count": 36,
   "metadata": {
    "collapsed": false
   },
   "outputs": [
    {
     "name": "stdout",
     "output_type": "stream",
     "text": [
      "['y', 'r', 'b', 'g']\n"
     ]
    }
   ],
   "source": [
    "print(d.keys())"
   ]
  },
  {
   "cell_type": "code",
   "execution_count": 37,
   "metadata": {
    "collapsed": false
   },
   "outputs": [
    {
     "name": "stdout",
     "output_type": "stream",
     "text": [
      "[1, 4, 3, 6]\n"
     ]
    }
   ],
   "source": [
    "print(d.values())"
   ]
  },
  {
   "cell_type": "markdown",
   "metadata": {},
   "source": [
    "### (3) dict() ---> tuple"
   ]
  },
  {
   "cell_type": "code",
   "execution_count": 38,
   "metadata": {
    "collapsed": false
   },
   "outputs": [
    {
     "name": "stdout",
     "output_type": "stream",
     "text": [
      "[('y', 1), ('r', 4), ('b', 3), ('g', 6)]\n"
     ]
    }
   ],
   "source": [
    "print(d.items())"
   ]
  },
  {
   "cell_type": "code",
   "execution_count": 39,
   "metadata": {
    "collapsed": false
   },
   "outputs": [
    {
     "name": "stdout",
     "output_type": "stream",
     "text": [
      "('y', 1)\n",
      "('r', 4)\n",
      "('b', 3)\n",
      "('g', 6)\n"
     ]
    }
   ],
   "source": [
    "for a,b in d.items():\n",
    "    print(a,b)"
   ]
  }
 ],
 "metadata": {
  "kernelspec": {
   "display_name": "Python 2",
   "language": "python",
   "name": "python2"
  },
  "language_info": {
   "codemirror_mode": {
    "name": "ipython",
    "version": 2
   },
   "file_extension": ".py",
   "mimetype": "text/x-python",
   "name": "python",
   "nbconvert_exporter": "python",
   "pygments_lexer": "ipython2",
   "version": "2.7.13"
  }
 },
 "nbformat": 4,
 "nbformat_minor": 2
}
